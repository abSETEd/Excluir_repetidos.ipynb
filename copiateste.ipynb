{
  "cells": [
    {
      "cell_type": "markdown",
      "metadata": {
        "id": "view-in-github",
        "colab_type": "text"
      },
      "source": [
        "<a href=\"https://colab.research.google.com/github/abSETEd/Excluir_repetidos.ipynb/blob/main/copiateste.ipynb\" target=\"_parent\"><img src=\"https://colab.research.google.com/assets/colab-badge.svg\" alt=\"Open In Colab\"/></a>"
      ]
    },
    {
      "cell_type": "code",
      "source": [
        "!pip install odfpy\n",
        "import pandas as pd\n",
        "import re\n",
        "from google.colab import files\n",
        "from tkinter import filedialog\n",
        "\n",
        "def formatar_cnpj(cnpj):\n",
        "    cnpj = re.sub(r'\\D', '', str(cnpj))  # Remove caracteres não numéricos\n",
        "    if len(cnpj) == 14:\n",
        "        return f\"{cnpj[:2]}.{cnpj[2:5]}.{cnpj[5:8]}/{cnpj[8:12]}-{cnpj[12:]}\"\n",
        "    return cnpj  # Retorna como está se não tiver 14 dígitos\n",
        "\n",
        "def formatar_telefone(telefone):\n",
        "    telefone = re.sub(r'\\D', '', str(telefone))  # Remove caracteres não numéricos\n",
        "    if len(telefone) in [10, 11]:  # Telefone fixo (10 dígitos) ou celular (11 dígitos)\n",
        "        return f\"({telefone[:2]}) {telefone[2:-4]}-{telefone[-4:]}\"\n",
        "    return telefone  # Retorna como está se não tiver 10 ou 11 dígitos\n",
        "\n",
        "def selecionar_arquivo():\n",
        "    root = tk.Tk()\n",
        "    root.withdraw()\n",
        "    return filedialog.askopenfilename(title=\"Selecione a planilha\", filetypes=[(\"Arquivos Excel\", \"*.xlsx;*.xls;*.ods\")])\n",
        "\n",
        "def remover_nomes_repetidos():\n",
        "    # Solicitar o nome do arquivo ao usuário\n",
        "    print(\"Faça o upload do arquivo da planilha\")\n",
        "    uploaded = files.upload()\n",
        "    arquivo_entrada = list(uploaded.keys())[0]\n",
        "    if not arquivo_entrada:\n",
        "        print(\"Nenhum arquivo selecionado. Saindo...\")\n",
        "        return\n",
        "\n",
        "    nome_coluna = \"Razão Social\"\n",
        "    arquivo_saida = \"planilha_filtrada.xlsx\"\n",
        "\n",
        "    # Carregar a planilha\n",
        "    if arquivo_entrada.endswith(\".ods\"):\n",
        "        df = pd.read_excel(arquivo_entrada, dtype=str, engine=\"odf\")\n",
        "    else:\n",
        "        df = pd.read_excel(arquivo_entrada, dtype=str)\n",
        "\n",
        "      nome_coluna = \"Razão Social\"  # Original column name\n",
        "    arquivo_saida = \"planilha_filtrada.xlsx\"\n",
        "\n",
        "    # Preencher valores nulos antes da contagem\n",
        "    df[nome_coluna] = df[nome_coluna].fillna('')\n",
        "\n",
        "    print(df.columns)  # New line to print column names\n",
        "    # Contar a ocorrência dos nomes\n",
        "\n",
        "    contagem = df[nome_coluna].value_counts()\n",
        "\n",
        "    # Filtrar apenas os nomes que aparecem uma única vez\n",
        "    nomes_unicos = contagem[contagem == 1].index\n",
        "    df_unicos = df[df[nome_coluna].isin(nomes_unicos)].copy()\n",
        "\n",
        "    # Formatando colunas\n",
        "    if 'CNPJ' in df_unicos.columns:\n",
        "        df_unicos['CNPJ'] = df_unicos['CNPJ'].apply(formatar_cnpj)\n",
        "\n",
        "    if 'Telefone' in df_unicos.columns:\n",
        "        df_unicos['Telefone'] = df_unicos['Telefone'].apply(formatar_telefone)\n",
        "\n",
        "    # Adicionando colunas obrigatórias\n",
        "    if 'Observação' not in df_unicos.columns:\n",
        "        df_unicos['Observação'] = ''\n",
        "    else:\n",
        "        df_unicos['Observação'] = df_unicos['Observação'].astype(str)\n",
        "\n",
        "    df_unicos['Lead Gerado'] = ''\n",
        "    df_unicos['Data de Contato'] = ''\n",
        "\n",
        "     # Salvar em uma nova planilha\n",
        "    df_unicos.to_excel(arquivo_saida, index=False, engine='openpyxl')\n",
        "    print(f'Arquivo salvo como {arquivo_saida} com {len(df_unicos)} entradas únicas.')\n",
        "\n",
        "    # Exibir opção de baixar a planilha\n",
        "    print(f\"Baixe a planilha aqui: {arquivo_saida}\")\n",
        "\n",
        "# Executar a função\n",
        "remover_nomes_repetidos()"
      ],
      "metadata": {
        "colab": {
          "base_uri": "https://localhost:8080/",
          "height": 106
        },
        "id": "m4wsBlqkeOrA",
        "outputId": "704a6a61-a4bc-4b75-903b-74818cf61c07"
      },
      "execution_count": 4,
      "outputs": [
        {
          "output_type": "error",
          "ename": "IndentationError",
          "evalue": "unindent does not match any outer indentation level (<tokenize>, line 42)",
          "traceback": [
            "\u001b[0;36m  File \u001b[0;32m\"<tokenize>\"\u001b[0;36m, line \u001b[0;32m42\u001b[0m\n\u001b[0;31m    nome_coluna = \"Razão Social\"  # Original column name\u001b[0m\n\u001b[0m    ^\u001b[0m\n\u001b[0;31mIndentationError\u001b[0m\u001b[0;31m:\u001b[0m unindent does not match any outer indentation level\n"
          ]
        }
      ]
    },
    {
      "cell_type": "code",
      "source": [
        "# Verificar se a coluna existe\n",
        "    if nome_coluna not in df.columns:\n",
        "        raise ValueError(f\"A coluna '{nome_coluna}' não foi encontrada na planilha.\")"
      ],
      "metadata": {
        "id": "OaGgZj3OebjX"
      },
      "execution_count": null,
      "outputs": []
    }
  ],
  "metadata": {
    "colab": {
      "name": "Olá, este é o Colaboratory",
      "toc_visible": true,
      "provenance": [],
      "include_colab_link": true
    },
    "kernelspec": {
      "display_name": "Python 3",
      "name": "python3"
    }
  },
  "nbformat": 4,
  "nbformat_minor": 0
}